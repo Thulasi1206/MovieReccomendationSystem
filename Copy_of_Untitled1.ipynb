{
  "nbformat": 4,
  "nbformat_minor": 0,
  "metadata": {
    "colab": {
      "provenance": [],
      "authorship_tag": "ABX9TyOqLEUh+ZO24XF9LrNdfMU5",
      "include_colab_link": true
    },
    "kernelspec": {
      "name": "python3",
      "display_name": "Python 3"
    },
    "language_info": {
      "name": "python"
    }
  },
  "cells": [
    {
      "cell_type": "markdown",
      "metadata": {
        "id": "view-in-github",
        "colab_type": "text"
      },
      "source": [
        "<a href=\"https://colab.research.google.com/github/Thulasi1206/MovieReccomendationSystem/blob/main/Copy_of_Untitled1.ipynb\" target=\"_parent\"><img src=\"https://colab.research.google.com/assets/colab-badge.svg\" alt=\"Open In Colab\"/></a>"
      ]
    },
    {
      "cell_type": "code",
      "source": [],
      "metadata": {
        "id": "UAlpSzkZ2efK"
      },
      "execution_count": null,
      "outputs": []
    },
    {
      "cell_type": "code",
      "source": [
        "import zipfile\n",
        "import os\n",
        "\n",
        "# Download the dataset if it doesn't exist\n",
        "if not os.path.exists(\"ml-latest-small.zip\"):\n",
        "    !wget http://files.grouplens.org/datasets/movielens/ml-latest-small.zip\n",
        "    print(\"Dataset downloaded successfully!\")\n",
        "\n",
        "# Extract the dataset\n",
        "with zipfile.ZipFile(\"ml-latest-small.zip\",'r') as zip_ref:\n",
        "    zip_ref.extractall(\"sample_data\")\n"
      ],
      "metadata": {
        "colab": {
          "base_uri": "https://localhost:8080/"
        },
        "id": "YiJK4clT2RfG",
        "outputId": "3a07db8d-ac6a-4af9-8043-72da6c217ab4"
      },
      "execution_count": null,
      "outputs": [
        {
          "output_type": "stream",
          "name": "stdout",
          "text": [
            "--2025-02-22 04:10:39--  http://files.grouplens.org/datasets/movielens/ml-latest-small.zip\n",
            "Resolving files.grouplens.org (files.grouplens.org)... 128.101.65.152\n",
            "Connecting to files.grouplens.org (files.grouplens.org)|128.101.65.152|:80... connected.\n",
            "HTTP request sent, awaiting response... 200 OK\n",
            "Length: 978202 (955K) [application/zip]\n",
            "Saving to: ‘ml-latest-small.zip’\n",
            "\n",
            "ml-latest-small.zip 100%[===================>] 955.28K  4.32MB/s    in 0.2s    \n",
            "\n",
            "2025-02-22 04:10:40 (4.32 MB/s) - ‘ml-latest-small.zip’ saved [978202/978202]\n",
            "\n",
            "Dataset downloaded successfully!\n"
          ]
        }
      ]
    },
    {
      "cell_type": "code",
      "source": [
        "import zipfile\n",
        "with zipfile.ZipFile(\"ml-latest-small.zip\",'r') as zip_ref:\n",
        "  zip_ref.extractall(\"sample_data\")"
      ],
      "metadata": {
        "id": "IS_8Kv0H2ffu"
      },
      "execution_count": null,
      "outputs": []
    },
    {
      "cell_type": "code",
      "source": [
        "import numpy as np\n",
        "import pandas as pd\n"
      ],
      "metadata": {
        "id": "TohSqXpa2lC1"
      },
      "execution_count": null,
      "outputs": []
    },
    {
      "cell_type": "code",
      "source": [
        "ratings=pd.read_csv(\"sample_data/ml-latest-small/ratings.csv\")\n",
        "movies=pd.read_csv(\"sample_data/ml-latest-small/movies.csv\")\n",
        "movies=movies[['movieId','title']]"
      ],
      "metadata": {
        "id": "fWRNMxdA2pEU"
      },
      "execution_count": null,
      "outputs": []
    },
    {
      "cell_type": "code",
      "source": [
        "print(ratings.head())"
      ],
      "metadata": {
        "colab": {
          "base_uri": "https://localhost:8080/"
        },
        "id": "aR4xVlRA2t9U",
        "outputId": "0215ffe5-0180-4677-df39-d6caa336cba6"
      },
      "execution_count": null,
      "outputs": [
        {
          "output_type": "stream",
          "name": "stdout",
          "text": [
            "   userId  movieId  rating  timestamp\n",
            "0       1        1     4.0  964982703\n",
            "1       1        3     4.0  964981247\n",
            "2       1        6     4.0  964982224\n",
            "3       1       47     5.0  964983815\n",
            "4       1       50     5.0  964982931\n"
          ]
        }
      ]
    },
    {
      "cell_type": "code",
      "source": [
        "print(movies.head())"
      ],
      "metadata": {
        "colab": {
          "base_uri": "https://localhost:8080/"
        },
        "id": "olD8y_0H21ri",
        "outputId": "9617a86a-d546-4581-9b57-a42b5f6b4eec"
      },
      "execution_count": null,
      "outputs": [
        {
          "output_type": "stream",
          "name": "stdout",
          "text": [
            "   movieId                               title\n",
            "0        1                    Toy Story (1995)\n",
            "1        2                      Jumanji (1995)\n",
            "2        3             Grumpier Old Men (1995)\n",
            "3        4            Waiting to Exhale (1995)\n",
            "4        5  Father of the Bride Part II (1995)\n"
          ]
        }
      ]
    },
    {
      "cell_type": "code",
      "source": [],
      "metadata": {
        "id": "ylfEHbqH3Ilw"
      },
      "execution_count": null,
      "outputs": []
    },
    {
      "cell_type": "code",
      "source": [
        "ratings=pd.merge(ratings,movies,on=\"movieId\")"
      ],
      "metadata": {
        "id": "e4-1jI6P28T4"
      },
      "execution_count": null,
      "outputs": []
    },
    {
      "cell_type": "code",
      "source": [
        "print(ratings.head())"
      ],
      "metadata": {
        "colab": {
          "base_uri": "https://localhost:8080/"
        },
        "id": "krcXzUzR3MRH",
        "outputId": "befd5112-908b-4eb1-c5d8-d0db74dab021"
      },
      "execution_count": null,
      "outputs": [
        {
          "output_type": "stream",
          "name": "stdout",
          "text": [
            "   userId  movieId  rating  timestamp                      title_x  \\\n",
            "0       1        1     4.0  964982703             Toy Story (1995)   \n",
            "1       1        3     4.0  964981247      Grumpier Old Men (1995)   \n",
            "2       1        6     4.0  964982224                  Heat (1995)   \n",
            "3       1       47     5.0  964983815  Seven (a.k.a. Se7en) (1995)   \n",
            "4       1       50     5.0  964982931   Usual Suspects, The (1995)   \n",
            "\n",
            "                       title_y  \n",
            "0             Toy Story (1995)  \n",
            "1      Grumpier Old Men (1995)  \n",
            "2                  Heat (1995)  \n",
            "3  Seven (a.k.a. Se7en) (1995)  \n",
            "4   Usual Suspects, The (1995)  \n"
          ]
        }
      ]
    },
    {
      "cell_type": "code",
      "source": [
        "user_movie_matrix1=ratings.pivot_table(index='userId',columns='title',values='rating').fillna(0)\n",
        "\n",
        "user_movie_matrix=user_movie_matrix1.values\n"
      ],
      "metadata": {
        "colab": {
          "base_uri": "https://localhost:8080/",
          "height": 333
        },
        "id": "koOTyhni3RlG",
        "outputId": "e5fc8c10-2a6d-4179-d9e8-571df6ed969c"
      },
      "execution_count": null,
      "outputs": [
        {
          "output_type": "error",
          "ename": "KeyError",
          "evalue": "'title'",
          "traceback": [
            "\u001b[0;31m---------------------------------------------------------------------------\u001b[0m",
            "\u001b[0;31mKeyError\u001b[0m                                  Traceback (most recent call last)",
            "\u001b[0;32m<ipython-input-11-3c06ba61eb07>\u001b[0m in \u001b[0;36m<cell line: 0>\u001b[0;34m()\u001b[0m\n\u001b[0;32m----> 1\u001b[0;31m \u001b[0muser_movie_matrix1\u001b[0m\u001b[0;34m=\u001b[0m\u001b[0mratings\u001b[0m\u001b[0;34m.\u001b[0m\u001b[0mpivot_table\u001b[0m\u001b[0;34m(\u001b[0m\u001b[0mindex\u001b[0m\u001b[0;34m=\u001b[0m\u001b[0;34m'userId'\u001b[0m\u001b[0;34m,\u001b[0m\u001b[0mcolumns\u001b[0m\u001b[0;34m=\u001b[0m\u001b[0;34m'title'\u001b[0m\u001b[0;34m,\u001b[0m\u001b[0mvalues\u001b[0m\u001b[0;34m=\u001b[0m\u001b[0;34m'rating'\u001b[0m\u001b[0;34m)\u001b[0m\u001b[0;34m.\u001b[0m\u001b[0mfillna\u001b[0m\u001b[0;34m(\u001b[0m\u001b[0;36m0\u001b[0m\u001b[0;34m)\u001b[0m\u001b[0;34m\u001b[0m\u001b[0;34m\u001b[0m\u001b[0m\n\u001b[0m\u001b[1;32m      2\u001b[0m \u001b[0;34m\u001b[0m\u001b[0m\n\u001b[1;32m      3\u001b[0m \u001b[0muser_movie_matrix\u001b[0m\u001b[0;34m=\u001b[0m\u001b[0muser_movie_matrix1\u001b[0m\u001b[0;34m.\u001b[0m\u001b[0mvalues\u001b[0m\u001b[0;34m\u001b[0m\u001b[0;34m\u001b[0m\u001b[0m\n",
            "\u001b[0;32m/usr/local/lib/python3.11/dist-packages/pandas/core/frame.py\u001b[0m in \u001b[0;36mpivot_table\u001b[0;34m(self, values, index, columns, aggfunc, fill_value, margins, dropna, margins_name, observed, sort)\u001b[0m\n\u001b[1;32m   9507\u001b[0m         \u001b[0;32mfrom\u001b[0m \u001b[0mpandas\u001b[0m\u001b[0;34m.\u001b[0m\u001b[0mcore\u001b[0m\u001b[0;34m.\u001b[0m\u001b[0mreshape\u001b[0m\u001b[0;34m.\u001b[0m\u001b[0mpivot\u001b[0m \u001b[0;32mimport\u001b[0m \u001b[0mpivot_table\u001b[0m\u001b[0;34m\u001b[0m\u001b[0;34m\u001b[0m\u001b[0m\n\u001b[1;32m   9508\u001b[0m \u001b[0;34m\u001b[0m\u001b[0m\n\u001b[0;32m-> 9509\u001b[0;31m         return pivot_table(\n\u001b[0m\u001b[1;32m   9510\u001b[0m             \u001b[0mself\u001b[0m\u001b[0;34m,\u001b[0m\u001b[0;34m\u001b[0m\u001b[0;34m\u001b[0m\u001b[0m\n\u001b[1;32m   9511\u001b[0m             \u001b[0mvalues\u001b[0m\u001b[0;34m=\u001b[0m\u001b[0mvalues\u001b[0m\u001b[0;34m,\u001b[0m\u001b[0;34m\u001b[0m\u001b[0;34m\u001b[0m\u001b[0m\n",
            "\u001b[0;32m/usr/local/lib/python3.11/dist-packages/pandas/core/reshape/pivot.py\u001b[0m in \u001b[0;36mpivot_table\u001b[0;34m(data, values, index, columns, aggfunc, fill_value, margins, dropna, margins_name, observed, sort)\u001b[0m\n\u001b[1;32m    100\u001b[0m         \u001b[0;32mreturn\u001b[0m \u001b[0mtable\u001b[0m\u001b[0;34m.\u001b[0m\u001b[0m__finalize__\u001b[0m\u001b[0;34m(\u001b[0m\u001b[0mdata\u001b[0m\u001b[0;34m,\u001b[0m \u001b[0mmethod\u001b[0m\u001b[0;34m=\u001b[0m\u001b[0;34m\"pivot_table\"\u001b[0m\u001b[0;34m)\u001b[0m\u001b[0;34m\u001b[0m\u001b[0;34m\u001b[0m\u001b[0m\n\u001b[1;32m    101\u001b[0m \u001b[0;34m\u001b[0m\u001b[0m\n\u001b[0;32m--> 102\u001b[0;31m     table = __internal_pivot_table(\n\u001b[0m\u001b[1;32m    103\u001b[0m         \u001b[0mdata\u001b[0m\u001b[0;34m,\u001b[0m\u001b[0;34m\u001b[0m\u001b[0;34m\u001b[0m\u001b[0m\n\u001b[1;32m    104\u001b[0m         \u001b[0mvalues\u001b[0m\u001b[0;34m,\u001b[0m\u001b[0;34m\u001b[0m\u001b[0;34m\u001b[0m\u001b[0m\n",
            "\u001b[0;32m/usr/local/lib/python3.11/dist-packages/pandas/core/reshape/pivot.py\u001b[0m in \u001b[0;36m__internal_pivot_table\u001b[0;34m(data, values, index, columns, aggfunc, fill_value, margins, dropna, margins_name, observed, sort)\u001b[0m\n\u001b[1;32m    170\u001b[0m \u001b[0;34m\u001b[0m\u001b[0m\n\u001b[1;32m    171\u001b[0m     \u001b[0mobserved_bool\u001b[0m \u001b[0;34m=\u001b[0m \u001b[0;32mFalse\u001b[0m \u001b[0;32mif\u001b[0m \u001b[0mobserved\u001b[0m \u001b[0;32mis\u001b[0m \u001b[0mlib\u001b[0m\u001b[0;34m.\u001b[0m\u001b[0mno_default\u001b[0m \u001b[0;32melse\u001b[0m \u001b[0mobserved\u001b[0m\u001b[0;34m\u001b[0m\u001b[0;34m\u001b[0m\u001b[0m\n\u001b[0;32m--> 172\u001b[0;31m     \u001b[0mgrouped\u001b[0m \u001b[0;34m=\u001b[0m \u001b[0mdata\u001b[0m\u001b[0;34m.\u001b[0m\u001b[0mgroupby\u001b[0m\u001b[0;34m(\u001b[0m\u001b[0mkeys\u001b[0m\u001b[0;34m,\u001b[0m \u001b[0mobserved\u001b[0m\u001b[0;34m=\u001b[0m\u001b[0mobserved_bool\u001b[0m\u001b[0;34m,\u001b[0m \u001b[0msort\u001b[0m\u001b[0;34m=\u001b[0m\u001b[0msort\u001b[0m\u001b[0;34m,\u001b[0m \u001b[0mdropna\u001b[0m\u001b[0;34m=\u001b[0m\u001b[0mdropna\u001b[0m\u001b[0;34m)\u001b[0m\u001b[0;34m\u001b[0m\u001b[0;34m\u001b[0m\u001b[0m\n\u001b[0m\u001b[1;32m    173\u001b[0m     if observed is lib.no_default and any(\n\u001b[1;32m    174\u001b[0m         \u001b[0mping\u001b[0m\u001b[0;34m.\u001b[0m\u001b[0m_passed_categorical\u001b[0m \u001b[0;32mfor\u001b[0m \u001b[0mping\u001b[0m \u001b[0;32min\u001b[0m \u001b[0mgrouped\u001b[0m\u001b[0;34m.\u001b[0m\u001b[0m_grouper\u001b[0m\u001b[0;34m.\u001b[0m\u001b[0mgroupings\u001b[0m\u001b[0;34m\u001b[0m\u001b[0;34m\u001b[0m\u001b[0m\n",
            "\u001b[0;32m/usr/local/lib/python3.11/dist-packages/pandas/core/frame.py\u001b[0m in \u001b[0;36mgroupby\u001b[0;34m(self, by, axis, level, as_index, sort, group_keys, observed, dropna)\u001b[0m\n\u001b[1;32m   9181\u001b[0m             \u001b[0;32mraise\u001b[0m \u001b[0mTypeError\u001b[0m\u001b[0;34m(\u001b[0m\u001b[0;34m\"You have to supply one of 'by' and 'level'\"\u001b[0m\u001b[0;34m)\u001b[0m\u001b[0;34m\u001b[0m\u001b[0;34m\u001b[0m\u001b[0m\n\u001b[1;32m   9182\u001b[0m \u001b[0;34m\u001b[0m\u001b[0m\n\u001b[0;32m-> 9183\u001b[0;31m         return DataFrameGroupBy(\n\u001b[0m\u001b[1;32m   9184\u001b[0m             \u001b[0mobj\u001b[0m\u001b[0;34m=\u001b[0m\u001b[0mself\u001b[0m\u001b[0;34m,\u001b[0m\u001b[0;34m\u001b[0m\u001b[0;34m\u001b[0m\u001b[0m\n\u001b[1;32m   9185\u001b[0m             \u001b[0mkeys\u001b[0m\u001b[0;34m=\u001b[0m\u001b[0mby\u001b[0m\u001b[0;34m,\u001b[0m\u001b[0;34m\u001b[0m\u001b[0;34m\u001b[0m\u001b[0m\n",
            "\u001b[0;32m/usr/local/lib/python3.11/dist-packages/pandas/core/groupby/groupby.py\u001b[0m in \u001b[0;36m__init__\u001b[0;34m(self, obj, keys, axis, level, grouper, exclusions, selection, as_index, sort, group_keys, observed, dropna)\u001b[0m\n\u001b[1;32m   1327\u001b[0m \u001b[0;34m\u001b[0m\u001b[0m\n\u001b[1;32m   1328\u001b[0m         \u001b[0;32mif\u001b[0m \u001b[0mgrouper\u001b[0m \u001b[0;32mis\u001b[0m \u001b[0;32mNone\u001b[0m\u001b[0;34m:\u001b[0m\u001b[0;34m\u001b[0m\u001b[0;34m\u001b[0m\u001b[0m\n\u001b[0;32m-> 1329\u001b[0;31m             grouper, exclusions, obj = get_grouper(\n\u001b[0m\u001b[1;32m   1330\u001b[0m                 \u001b[0mobj\u001b[0m\u001b[0;34m,\u001b[0m\u001b[0;34m\u001b[0m\u001b[0;34m\u001b[0m\u001b[0m\n\u001b[1;32m   1331\u001b[0m                 \u001b[0mkeys\u001b[0m\u001b[0;34m,\u001b[0m\u001b[0;34m\u001b[0m\u001b[0;34m\u001b[0m\u001b[0m\n",
            "\u001b[0;32m/usr/local/lib/python3.11/dist-packages/pandas/core/groupby/grouper.py\u001b[0m in \u001b[0;36mget_grouper\u001b[0;34m(obj, key, axis, level, sort, observed, validate, dropna)\u001b[0m\n\u001b[1;32m   1041\u001b[0m                 \u001b[0min_axis\u001b[0m\u001b[0;34m,\u001b[0m \u001b[0mlevel\u001b[0m\u001b[0;34m,\u001b[0m \u001b[0mgpr\u001b[0m \u001b[0;34m=\u001b[0m \u001b[0;32mFalse\u001b[0m\u001b[0;34m,\u001b[0m \u001b[0mgpr\u001b[0m\u001b[0;34m,\u001b[0m \u001b[0;32mNone\u001b[0m\u001b[0;34m\u001b[0m\u001b[0;34m\u001b[0m\u001b[0m\n\u001b[1;32m   1042\u001b[0m             \u001b[0;32melse\u001b[0m\u001b[0;34m:\u001b[0m\u001b[0;34m\u001b[0m\u001b[0;34m\u001b[0m\u001b[0m\n\u001b[0;32m-> 1043\u001b[0;31m                 \u001b[0;32mraise\u001b[0m \u001b[0mKeyError\u001b[0m\u001b[0;34m(\u001b[0m\u001b[0mgpr\u001b[0m\u001b[0;34m)\u001b[0m\u001b[0;34m\u001b[0m\u001b[0;34m\u001b[0m\u001b[0m\n\u001b[0m\u001b[1;32m   1044\u001b[0m         \u001b[0;32melif\u001b[0m \u001b[0misinstance\u001b[0m\u001b[0;34m(\u001b[0m\u001b[0mgpr\u001b[0m\u001b[0;34m,\u001b[0m \u001b[0mGrouper\u001b[0m\u001b[0;34m)\u001b[0m \u001b[0;32mand\u001b[0m \u001b[0mgpr\u001b[0m\u001b[0;34m.\u001b[0m\u001b[0mkey\u001b[0m \u001b[0;32mis\u001b[0m \u001b[0;32mnot\u001b[0m \u001b[0;32mNone\u001b[0m\u001b[0;34m:\u001b[0m\u001b[0;34m\u001b[0m\u001b[0;34m\u001b[0m\u001b[0m\n\u001b[1;32m   1045\u001b[0m             \u001b[0;31m# Add key to exclusions\u001b[0m\u001b[0;34m\u001b[0m\u001b[0;34m\u001b[0m\u001b[0m\n",
            "\u001b[0;31mKeyError\u001b[0m: 'title'"
          ]
        }
      ]
    },
    {
      "cell_type": "code",
      "source": [
        "ratings=pd.read_csv(\"sample_data/ml-latest-small/ratings.csv\")\n",
        "movies=pd.read_csv(\"sample_data/ml-latest-small/movies.csv\")\n",
        "movies=movies[['movieId','title']]\n",
        "# Merge ratings and movies DataFrames on 'movieId' to bring 'title' column into ratings\n",
        "ratings = pd.merge(ratings, movies, on='movieId', how='left') # Ensure 'title' is in ratings\n",
        "user_movie_matrix1=ratings.pivot_table(index='userId',columns='title',values='rating').fillna(0)\n",
        "\n",
        "user_movie_matrix=user_movie_matrix1.values"
      ],
      "metadata": {
        "id": "1g1ceeXq3gXb"
      },
      "execution_count": null,
      "outputs": []
    },
    {
      "cell_type": "code",
      "source": [
        "user_movie_matrix1=ratings.pivot_table(index='userId',columns='title',values='rating').fillna(0)\n",
        "\n",
        "user_movie_matrix=user_movie_matrix1.values\n"
      ],
      "metadata": {
        "id": "swqgbjZK3kUb"
      },
      "execution_count": null,
      "outputs": []
    },
    {
      "cell_type": "code",
      "source": [
        "!pip install scikit_learn"
      ],
      "metadata": {
        "colab": {
          "base_uri": "https://localhost:8080/"
        },
        "id": "y-huNkHS3lz2",
        "outputId": "8c31b72b-d7de-4f97-abeb-a0d8b9fe95e0"
      },
      "execution_count": null,
      "outputs": [
        {
          "output_type": "stream",
          "name": "stdout",
          "text": [
            "Requirement already satisfied: scikit_learn in /usr/local/lib/python3.11/dist-packages (1.6.1)\n",
            "Requirement already satisfied: numpy>=1.19.5 in /usr/local/lib/python3.11/dist-packages (from scikit_learn) (1.26.4)\n",
            "Requirement already satisfied: scipy>=1.6.0 in /usr/local/lib/python3.11/dist-packages (from scikit_learn) (1.13.1)\n",
            "Requirement already satisfied: joblib>=1.2.0 in /usr/local/lib/python3.11/dist-packages (from scikit_learn) (1.4.2)\n",
            "Requirement already satisfied: threadpoolctl>=3.1.0 in /usr/local/lib/python3.11/dist-packages (from scikit_learn) (3.5.0)\n"
          ]
        }
      ]
    },
    {
      "cell_type": "code",
      "source": [
        "from sklearn.model_selection import train_test_split"
      ],
      "metadata": {
        "id": "1cH9moT73qx5"
      },
      "execution_count": null,
      "outputs": []
    },
    {
      "cell_type": "code",
      "source": [
        "train_data,test_data=train_test_split(ratings,test_size=0.2,random_state=42)"
      ],
      "metadata": {
        "id": "TOmwXM8r31pH"
      },
      "execution_count": null,
      "outputs": []
    },
    {
      "cell_type": "code",
      "source": [
        "from sklearn.metrics.pairwise import cosine_similarity"
      ],
      "metadata": {
        "id": "WKSyhsOW33Fv"
      },
      "execution_count": null,
      "outputs": []
    },
    {
      "cell_type": "code",
      "source": [
        "user_similarity=cosine_similarity(user_movie_matrix)\n",
        "user_similarity_df=pd.DataFrame(user_similarity,index=user_movie_matrix1.index,columns=user_movie_matrix1.index)\n",
        "print(user_similarity_df.head())"
      ],
      "metadata": {
        "colab": {
          "base_uri": "https://localhost:8080/"
        },
        "id": "Gwg1ogSz37Lg",
        "outputId": "092e74bc-89c6-472d-b655-c8c1b0cf56da"
      },
      "execution_count": null,
      "outputs": [
        {
          "output_type": "stream",
          "name": "stdout",
          "text": [
            "userId       1         2         3         4         5         6         7    \\\n",
            "userId                                                                         \n",
            "1       1.000000  0.027283  0.059720  0.194395  0.129080  0.128152  0.158744   \n",
            "2       0.027283  1.000000  0.000000  0.003726  0.016614  0.025333  0.027585   \n",
            "3       0.059720  0.000000  1.000000  0.002251  0.005020  0.003936  0.000000   \n",
            "4       0.194395  0.003726  0.002251  1.000000  0.128659  0.088491  0.115120   \n",
            "5       0.129080  0.016614  0.005020  0.128659  1.000000  0.300349  0.108342   \n",
            "\n",
            "userId       8         9         10   ...       601       602       603  \\\n",
            "userId                                ...                                 \n",
            "1       0.136968  0.064263  0.016875  ...  0.080554  0.164455  0.221486   \n",
            "2       0.027257  0.000000  0.067445  ...  0.202671  0.016866  0.011997   \n",
            "3       0.004941  0.000000  0.000000  ...  0.005048  0.004892  0.024992   \n",
            "4       0.062969  0.011361  0.031163  ...  0.085938  0.128273  0.307973   \n",
            "5       0.429075  0.000000  0.030611  ...  0.068048  0.418747  0.110148   \n",
            "\n",
            "userId       604       605       606       607       608       609       610  \n",
            "userId                                                                        \n",
            "1       0.070669  0.153625  0.164191  0.269389  0.291097  0.093572  0.145321  \n",
            "2       0.000000  0.000000  0.028429  0.012948  0.046211  0.027565  0.102427  \n",
            "3       0.000000  0.010694  0.012993  0.019247  0.021128  0.000000  0.032119  \n",
            "4       0.052985  0.084584  0.200395  0.131746  0.149858  0.032198  0.107683  \n",
            "5       0.258773  0.148758  0.106435  0.152866  0.135535  0.261232  0.060792  \n",
            "\n",
            "[5 rows x 610 columns]\n"
          ]
        }
      ]
    },
    {
      "cell_type": "code",
      "source": [
        "def predictions(user_movie_matrix,user_similarity_matrix):\n",
        "  mean_rating=user_movie_matrix.mean(axis=1)\n",
        "  rating_diff=(user_movie_matrix - mean_rating[:,np.newaxis])\n",
        "  pred=mean_rating[:,np.newaxis]+user_similarity_matrix.dot(rating_diff)/np.array([np.abs(user_similarity_matrix).sum(axis=1)]).T\n",
        "  return pred"
      ],
      "metadata": {
        "id": "_-jyoyXz4F1Y"
      },
      "execution_count": null,
      "outputs": []
    },
    {
      "cell_type": "code",
      "source": [
        "predicted_ratings=predictions(user_movie_matrix1.values,user_similarity_df.values)\n",
        "print(predicted_ratings)"
      ],
      "metadata": {
        "colab": {
          "base_uri": "https://localhost:8080/"
        },
        "id": "7MZ-mFod4HmL",
        "outputId": "5140f425-b339-4fcf-d2bc-5671199875ea"
      },
      "execution_count": null,
      "outputs": [
        {
          "output_type": "stream",
          "name": "stdout",
          "text": [
            "[[ 0.02560548  0.03059038  0.0315963  ...  0.03885832  0.30124734\n",
            "   0.02144231]\n",
            " [-0.04885027 -0.05242888 -0.05357387 ... -0.03084344  0.09906232\n",
            "  -0.06158879]\n",
            " [-0.06432713 -0.06671188 -0.02829163 ... -0.04840215  0.23374791\n",
            "  -0.07369782]\n",
            " ...\n",
            " [ 0.18653201  0.18577795  0.18737016 ...  0.20505716  0.40884919\n",
            "   0.17648002]\n",
            " [-0.03611711 -0.03243625 -0.03245831 ... -0.02666406  0.07078844\n",
            "  -0.03838186]\n",
            " [ 0.44031001  0.4056817   0.40707942 ...  0.44138402  0.6051471\n",
            "   0.39356425]]\n"
          ]
        }
      ]
    },
    {
      "cell_type": "code",
      "source": [
        "def recommend_movies(user_id,user_movie_matrix,predicted_ratings,movies,num_recommendations=5):\n",
        "  user_ratings=user_movie_matrix.loc[user_id]\n",
        "  unratedMovies=user_ratings[user_ratings==0].index\n",
        "  predicted_scores=pd.Series(predicted_ratings[user_id-1],index=user_movie_matrix.columns)\n",
        "  recommendations=predicted_scores.loc[unratedMovies].sort_values(ascending=False).head(num_recommendations)\n",
        "  return recommendations\n"
      ],
      "metadata": {
        "id": "nocRkhZS4MtH"
      },
      "execution_count": null,
      "outputs": []
    },
    {
      "cell_type": "code",
      "source": [
        "print(recommend_movies(1,user_movie_matrix1,predicted_ratings,movies))"
      ],
      "metadata": {
        "colab": {
          "base_uri": "https://localhost:8080/"
        },
        "id": "ZoJq7PPx4TVx",
        "outputId": "6c2b39d4-03b7-4beb-b091-7bb26e05f1c6"
      },
      "execution_count": null,
      "outputs": [
        {
          "output_type": "stream",
          "name": "stdout",
          "text": [
            "title\n",
            "Shawshank Redemption, The (1994)                             2.640944\n",
            "Terminator 2: Judgment Day (1991)                            2.080452\n",
            "Godfather, The (1972)                                        1.855447\n",
            "Sixth Sense, The (1999)                                      1.661853\n",
            "Lord of the Rings: The Fellowship of the Ring, The (2001)    1.623584\n",
            "dtype: float64\n"
          ]
        }
      ]
    },
    {
      "cell_type": "code",
      "source": [
        "from sklearn.metrics import mean_squared_error\n",
        "def evaluate_model(user_movie_matrix1,predicted_ratings):\n",
        "  ratedmovies=user_movie_matrix1.values\n",
        "  rmse=np.sqrt(mean_squared_error(ratedmovies[ratedmovies.nonzero()],predicted_ratings[ratedmovies.nonzero()]))\n",
        "  return rmse\n",
        "\n",
        "\n",
        "print(evaluate_model(user_movie_matrix1,predicted_ratings))\n"
      ],
      "metadata": {
        "colab": {
          "base_uri": "https://localhost:8080/"
        },
        "id": "pJCmW_cH4Xm-",
        "outputId": "dda24914-8353-407b-ed1f-f35b50832c38"
      },
      "execution_count": null,
      "outputs": [
        {
          "output_type": "stream",
          "name": "stdout",
          "text": [
            "2.965969850360928\n"
          ]
        }
      ]
    },
    {
      "cell_type": "code",
      "source": [
        "from scipy.sparse.linalg import svds"
      ],
      "metadata": {
        "id": "4cl45s_Y4bor"
      },
      "execution_count": null,
      "outputs": []
    },
    {
      "cell_type": "code",
      "source": [
        "u,sigma,vt=svds(user_movie_matrix1.values,k=50)\n",
        "sigma=np.diag(sigma)"
      ],
      "metadata": {
        "id": "HfYPw2eC4dJh"
      },
      "execution_count": null,
      "outputs": []
    },
    {
      "cell_type": "code",
      "source": [
        "predicted_ratings_svd=np.dot(np.dot(u,sigma),vt)\n",
        "predicted_ratings_svd_df=pd.DataFrame(predicted_ratings_svd,index=user_movie_matrix1.index,columns=user_movie_matrix1.columns)\n",
        "print(predicted_ratings_svd_df)"
      ],
      "metadata": {
        "colab": {
          "base_uri": "https://localhost:8080/"
        },
        "id": "KS02ItHj4iv5",
        "outputId": "24858804-d80b-4c46-d492-849a5b5d4d4e"
      },
      "execution_count": null,
      "outputs": [
        {
          "output_type": "stream",
          "name": "stdout",
          "text": [
            "title   '71 (2014)  'Hellboy': The Seeds of Creation (2004)  \\\n",
            "userId                                                        \n",
            "1        -0.069287                                 0.018767   \n",
            "2        -0.028678                                -0.012015   \n",
            "3         0.017487                                 0.001239   \n",
            "4        -0.009402                                 0.007128   \n",
            "5         0.014022                                 0.004154   \n",
            "...            ...                                      ...   \n",
            "606       0.023647                                -0.006764   \n",
            "607       0.009502                                 0.015175   \n",
            "608       0.001271                                -0.081955   \n",
            "609      -0.002226                                 0.005341   \n",
            "610       3.879142                                -0.024543   \n",
            "\n",
            "title   'Round Midnight (1986)  'Salem's Lot (2004)  \\\n",
            "userId                                                \n",
            "1                    -0.042895            -0.038633   \n",
            "2                    -0.010785             0.000667   \n",
            "3                     0.004907             0.002812   \n",
            "4                    -0.014513            -0.004971   \n",
            "5                     0.001643            -0.007565   \n",
            "...                        ...                  ...   \n",
            "606                  -0.017570             0.027698   \n",
            "607                   0.004493             0.001107   \n",
            "608                  -0.056991            -0.005626   \n",
            "609                   0.005613            -0.001116   \n",
            "610                  -0.025389             0.014882   \n",
            "\n",
            "title   'Til There Was You (1997)  'Tis the Season for Love (2015)  \\\n",
            "userId                                                               \n",
            "1                       -0.049699                        -0.007370   \n",
            "2                       -0.003074                        -0.007729   \n",
            "3                        0.002341                        -0.001500   \n",
            "4                        0.017351                        -0.033052   \n",
            "5                       -0.010141                        -0.009996   \n",
            "...                           ...                              ...   \n",
            "606                      0.080438                        -0.002075   \n",
            "607                     -0.008372                        -0.004232   \n",
            "608                     -0.032920                        -0.043332   \n",
            "609                     -0.009124                         0.003415   \n",
            "610                      0.032814                        -0.016667   \n",
            "\n",
            "title   'burbs, The (1989)  'night Mother (1986)  (500) Days of Summer (2009)  \\\n",
            "userId                                                                          \n",
            "1                 0.540617             -0.009627                    -0.605885   \n",
            "2                 0.003357              0.008565                     0.149107   \n",
            "3                 0.089847             -0.006716                     0.027147   \n",
            "4                -0.372746              0.009112                    -0.227757   \n",
            "5                -0.108389              0.002099                     0.011011   \n",
            "...                    ...                   ...                          ...   \n",
            "606              -0.085235              0.003498                    -0.550056   \n",
            "607               0.244043              0.012814                     0.088166   \n",
            "608               0.436091             -0.043894                    -0.133154   \n",
            "609               0.026079             -0.001325                    -0.071840   \n",
            "610               0.119515             -0.006774                     3.760518   \n",
            "\n",
            "title   *batteries not included (1987)  ...  Zulu (2013)  [REC] (2007)  \\\n",
            "userId                                  ...                              \n",
            "1                             0.211192  ...     0.013099     -0.460020   \n",
            "2                            -0.006173  ...     0.004154     -0.015531   \n",
            "3                            -0.007325  ...     0.000466      0.043423   \n",
            "4                             0.053492  ...    -0.004254     -0.145385   \n",
            "5                            -0.096820  ...     0.004482      0.048453   \n",
            "...                                ...  ...          ...           ...   \n",
            "606                           0.091252  ...     0.008334      0.060057   \n",
            "607                           0.174952  ...    -0.007348      0.468143   \n",
            "608                           0.031513  ...     0.018198      0.354038   \n",
            "609                           0.011696  ...     0.001056      0.019660   \n",
            "610                          -0.002187  ...     0.006174      3.965914   \n",
            "\n",
            "title   [REC]² (2009)  [REC]³ 3 Génesis (2012)  \\\n",
            "userId                                           \n",
            "1            0.019474                -0.054220   \n",
            "2           -0.027589                -0.034685   \n",
            "3            0.022705                 0.022107   \n",
            "4           -0.069962                -0.057734   \n",
            "5            0.013028                 0.004971   \n",
            "...               ...                      ...   \n",
            "606          0.032516                 0.038254   \n",
            "607          0.056999                 0.015934   \n",
            "608          0.016481                 0.009475   \n",
            "609          0.010333                -0.004505   \n",
            "610          3.398768                 2.911950   \n",
            "\n",
            "title   anohana: The Flower We Saw That Day - The Movie (2013)  \\\n",
            "userId                                                           \n",
            "1                                               -0.021501        \n",
            "2                                                0.016193        \n",
            "3                                               -0.001260        \n",
            "4                                                0.001657        \n",
            "5                                               -0.003763        \n",
            "...                                                   ...        \n",
            "606                                             -0.030779        \n",
            "607                                              0.003529        \n",
            "608                                             -0.010645        \n",
            "609                                              0.000872        \n",
            "610                                             -0.023952        \n",
            "\n",
            "title   eXistenZ (1999)  xXx (2002)  xXx: State of the Union (2005)  \\\n",
            "userId                                                                \n",
            "1              0.339775   -0.286041                       -0.187782   \n",
            "2              0.059240   -0.104825                       -0.010205   \n",
            "3              0.022077    0.001688                        0.008866   \n",
            "4              0.096298   -0.198194                       -0.040464   \n",
            "5             -0.080241   -0.007740                        0.045689   \n",
            "...                 ...         ...                             ...   \n",
            "606            0.068280    0.193172                       -0.014553   \n",
            "607            0.429961    0.169634                        0.065256   \n",
            "608            2.970628    2.386631                        0.023173   \n",
            "609            0.008787   -0.005232                        0.024702   \n",
            "610           -0.053707    1.952171                        1.422885   \n",
            "\n",
            "title   ¡Three Amigos! (1986)  À nous la liberté (Freedom for Us) (1931)  \n",
            "userId                                                                    \n",
            "1                    1.500375                                   0.033463  \n",
            "2                    0.056609                                  -0.000368  \n",
            "3                    0.052732                                   0.003761  \n",
            "4                    0.015941                                  -0.005385  \n",
            "5                   -0.091615                                   0.001638  \n",
            "...                       ...                                        ...  \n",
            "606                  0.230288                                   0.009736  \n",
            "607                  0.179508                                   0.030917  \n",
            "608                  0.537806                                   0.017467  \n",
            "609                  0.023109                                  -0.003797  \n",
            "610                 -0.258588                                   0.009695  \n",
            "\n",
            "[610 rows x 9719 columns]\n"
          ]
        }
      ]
    },
    {
      "cell_type": "code",
      "source": [
        "print(recommend_movies(1,user_movie_matrix1,predicted_ratings_svd,movies))"
      ],
      "metadata": {
        "colab": {
          "base_uri": "https://localhost:8080/"
        },
        "id": "iu1rFML64mlb",
        "outputId": "957ca55e-24e9-4608-eaa4-ead612175faf"
      },
      "execution_count": null,
      "outputs": [
        {
          "output_type": "stream",
          "name": "stdout",
          "text": [
            "title\n",
            "Die Hard (1988)                   4.008569\n",
            "Godfather: Part II, The (1974)    3.304911\n",
            "Jaws (1975)                       3.302400\n",
            "Breakfast Club, The (1985)        2.869948\n",
            "Godfather, The (1972)             2.862019\n",
            "dtype: float64\n"
          ]
        }
      ]
    },
    {
      "cell_type": "markdown",
      "source": [],
      "metadata": {
        "id": "pS6p0OgX46Ge"
      }
    },
    {
      "cell_type": "code",
      "source": [
        "print(evaluate_model(user_movie_matrix1,predicted_ratings_svd))"
      ],
      "metadata": {
        "colab": {
          "base_uri": "https://localhost:8080/"
        },
        "id": "oqCQEGj-5CSN",
        "outputId": "90d47216-f767-4565-9a56-f6c30b42e1da"
      },
      "execution_count": null,
      "outputs": [
        {
          "output_type": "stream",
          "name": "stdout",
          "text": [
            "1.9976811729543087\n"
          ]
        }
      ]
    },
    {
      "cell_type": "code",
      "source": [],
      "metadata": {
        "id": "zddL79K15EN4"
      },
      "execution_count": null,
      "outputs": []
    },
    {
      "cell_type": "markdown",
      "source": [
        "# Conclusion:\n",
        "By compared to cosine similarity model ,the error rate is less.So,SVD model give more accurate results."
      ],
      "metadata": {
        "id": "aGkb8-uu5Edl"
      }
    }
  ]
}